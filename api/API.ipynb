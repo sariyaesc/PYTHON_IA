{
 "cells": [
  {
   "cell_type": "markdown",
   "metadata": {},
   "source": [
    "###### Definición: capa de software que permite a dos sistemas interactuar entre ellos"
   ]
  },
  {
   "cell_type": "code",
   "execution_count": 12,
   "metadata": {},
   "outputs": [],
   "source": [
    "from fastapi import FastAPI\n",
    "\n",
    "app= FastAPI()\n",
    "\n",
    "\n",
    "@app.get(\"/\")\n",
    "def raiz():\n",
    "    return{\"Hello\": \"Hola\"}\n",
    "\n",
    "@app.get(\"/items/{item_id}/{m}\")\n",
    "def read_items(item_id:int,m:str=None):\n",
    "    return {\"item_id\": item_id,\"m\":m}"
   ]
  }
 ],
 "metadata": {
  "kernelspec": {
   "display_name": "Python 3",
   "language": "python",
   "name": "python3"
  },
  "language_info": {
   "codemirror_mode": {
    "name": "ipython",
    "version": 3
   },
   "file_extension": ".py",
   "mimetype": "text/x-python",
   "name": "python",
   "nbconvert_exporter": "python",
   "pygments_lexer": "ipython3",
   "version": "3.10.8"
  },
  "orig_nbformat": 4
 },
 "nbformat": 4,
 "nbformat_minor": 2
}
