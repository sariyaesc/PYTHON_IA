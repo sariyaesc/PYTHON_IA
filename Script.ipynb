{
 "cells": [
  {
   "cell_type": "code",
   "execution_count": 44,
   "metadata": {},
   "outputs": [],
   "source": [
    "import requests\n",
    "from bs4 import BeautifulSoup"
   ]
  },
  {
   "cell_type": "code",
   "execution_count": 45,
   "metadata": {},
   "outputs": [],
   "source": [
    "def obtener_contenido_pagina(url):\n",
    "    respone=requests.get(url)\n",
    "    return respone.text"
   ]
  },
  {
   "cell_type": "code",
   "execution_count": 46,
   "metadata": {},
   "outputs": [],
   "source": [
    "def analizar_contenido_html(html):\n",
    "    return BeautifulSoup(html,'html.parser')"
   ]
  },
  {
   "cell_type": "code",
   "execution_count": 47,
   "metadata": {},
   "outputs": [],
   "source": [
    "data = []\n",
    "\n",
    "def procesar_pagina(soup):\n",
    "\n",
    "    titulos = []\n",
    "    precios_originales = []\n",
    "    precios_descuento = []\n",
    "    precios_envio = []\n",
    "    skus = []\n",
    "    stocks = []\n",
    "\n",
    "    titulo_items = soup.find_all('div', class_=\"emproduct_right\")\n",
    "\n",
    "    for item in titulo_items:\n",
    "        titulo = item.a.text.strip()\n",
    "        titulos.append(titulo)\n",
    "\n",
    "    precio_original_items = soup.find_all(\"span\", class_=\"oldPrice\")\n",
    "\n",
    "    for item in precio_original_items:\n",
    "        precio_original = item.text.strip()\n",
    "        precios_originales.append(precio_original)\n",
    "\n",
    "    precio_descuento_items = soup.find_all(\"div\", class_=\"emproduct_right_price_left\")\n",
    "\n",
    "    for item in precio_descuento_items:\n",
    "        precio_descuento = item.label.text.strip()\n",
    "        precios_descuento.append(precio_descuento)\n",
    "\n",
    "    sku_items = soup.find_all(\"div\", class_=\"emproduct_right_artnum\")\n",
    "\n",
    "    for item in sku_items:\n",
    "        sku = item.text.strip()\n",
    "        skus.append(sku.lstrip(\"SKU: \"))\n",
    "\n",
    "    precio_envio_items = soup.find_all(\"span\", class_={\"deliveryvalue\", \"deliverytextfree\"})\n",
    "\n",
    "    for item in precio_envio_items:\n",
    "        precio_envio = item.text\n",
    "        precios_envio.append(precio_envio)\n",
    "\n",
    "    stock_items = soup.find_all(\"div\", class_=\"emstock\")\n",
    "\n",
    "    for item in stock_items:\n",
    "        stock = item.text.split()\n",
    "        stocks.append(stock[1])\n",
    "\n",
    "    min_length = min(len(titulos), len(skus), len(precios_originales), len(precios_descuento), len(precios_envio), len(stocks))\n",
    "    \n",
    "    for i in range(min_length):\n",
    "        data.append({\n",
    "            \"Título\": titulos[i] if i < len(titulos) else None,\n",
    "            \"SKU\": skus[i]  if i < len(skus) else None,\n",
    "            \"Precio Original\": precios_originales[i]  if i < len(precios_originales) else None,\n",
    "            \"Precio Descuento\": precios_descuento[i] if i < len(precios_descuento) else None,\n",
    "            \"Precio Envío\": precios_envio[i] if i < len(precios_envio) else None,\n",
    "            \"Stock\": stocks[i] if i < len(stocks) else None\n",
    "        })\n"
   ]
  },
  {
   "cell_type": "code",
   "execution_count": 48,
   "metadata": {},
   "outputs": [],
   "source": [
    "def manejar_paginacion(url_base,num_paginas):\n",
    "    for i in range (1,num_paginas+1):\n",
    "        url= url_base+str(i)+\"/\"\n",
    "        contenido_pagina=obtener_contenido_pagina(url)\n",
    "        soup=analizar_contenido_html(contenido_pagina)\n",
    "        procesar_pagina(soup)\n"
   ]
  },
  {
   "cell_type": "code",
   "execution_count": 49,
   "metadata": {},
   "outputs": [],
   "source": [
    "url_base=\"https://www.cyberpuerta.mx/Promociones/\"\n",
    "num_paginas=10\n",
    "\n",
    "manejar_paginacion(url_base,num_paginas)"
   ]
  },
  {
   "cell_type": "code",
   "execution_count": 50,
   "metadata": {},
   "outputs": [],
   "source": [
    "import pandas as pd\n",
    "\n",
    "df=pd.DataFrame(data)\n"
   ]
  },
  {
   "cell_type": "code",
   "execution_count": 51,
   "metadata": {},
   "outputs": [],
   "source": [
    "import datetime\n",
    "\n",
    "fecha_actual=datetime.datetime.now().strftime(\"%d-%m-%Y\")\n",
    "df.to_csv(f\"dataset/Promociones-Cyberpuerta-{fecha_actual}.csv\",index=False)"
   ]
  }
 ],
 "metadata": {
  "kernelspec": {
   "display_name": "Python 3",
   "language": "python",
   "name": "python3"
  },
  "language_info": {
   "codemirror_mode": {
    "name": "ipython",
    "version": 3
   },
   "file_extension": ".py",
   "mimetype": "text/x-python",
   "name": "python",
   "nbconvert_exporter": "python",
   "pygments_lexer": "ipython3",
   "version": "3.10.8"
  },
  "orig_nbformat": 4
 },
 "nbformat": 4,
 "nbformat_minor": 2
}
